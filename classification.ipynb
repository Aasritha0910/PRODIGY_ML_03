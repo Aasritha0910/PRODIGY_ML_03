{
 "cells": [
  {
   "cell_type": "code",
   "execution_count": 1,
   "metadata": {
    "executionInfo": {
     "elapsed": 482,
     "status": "ok",
     "timestamp": 1706413236688,
     "user": {
      "displayName": "Jaya Kiran",
      "userId": "11859411120417726654"
     },
     "user_tz": -330
    },
    "id": "_P9GYoI4YD3o"
   },
   "outputs": [],
   "source": [
    "# Dataset - https://www.kaggle.com/datasets/salader/dogs-vs-cats"
   ]
  },
  {
   "cell_type": "code",
   "execution_count": 2,
   "metadata": {
    "executionInfo": {
     "elapsed": 414,
     "status": "ok",
     "timestamp": 1706413238738,
     "user": {
      "displayName": "Jaya Kiran",
      "userId": "11859411120417726654"
     },
     "user_tz": -330
    },
    "id": "B9Pg85rlYNEO"
   },
   "outputs": [
    {
     "name": "stderr",
     "output_type": "stream",
     "text": [
      "The syntax of the command is incorrect.\n",
      "'cp' is not recognized as an internal or external command,\n",
      "operable program or batch file.\n"
     ]
    }
   ],
   "source": [
    "!mkdir -p ~/.kaggle\n",
    "!cp kaggle.json ~/.kaggle/"
   ]
  },
  {
   "cell_type": "code",
   "execution_count": 3,
   "metadata": {
    "colab": {
     "base_uri": "https://localhost:8080/"
    },
    "executionInfo": {
     "elapsed": 8606,
     "status": "ok",
     "timestamp": 1706413250555,
     "user": {
      "displayName": "Jaya Kiran",
      "userId": "11859411120417726654"
     },
     "user_tz": -330
    },
    "id": "K7S68dhbYaJ7",
    "outputId": "077d0557-745e-47c7-f821-9a3444e99ffd"
   },
   "outputs": [
    {
     "name": "stderr",
     "output_type": "stream",
     "text": [
      "'kaggle' is not recognized as an internal or external command,\n",
      "operable program or batch file.\n"
     ]
    }
   ],
   "source": [
    "!kaggle datasets download -d salader/dogs-vs-cats"
   ]
  },
  {
   "cell_type": "code",
   "execution_count": 4,
   "metadata": {
    "executionInfo": {
     "elapsed": 14976,
     "status": "ok",
     "timestamp": 1706413265492,
     "user": {
      "displayName": "Jaya Kiran",
      "userId": "11859411120417726654"
     },
     "user_tz": -330
    },
    "id": "6L7mgxmvYgY2"
   },
   "outputs": [
    {
     "ename": "FileNotFoundError",
     "evalue": "[Errno 2] No such file or directory: '/content/dogs-vs-cats.zip'",
     "output_type": "error",
     "traceback": [
      "\u001b[1;31m---------------------------------------------------------------------------\u001b[0m",
      "\u001b[1;31mFileNotFoundError\u001b[0m                         Traceback (most recent call last)",
      "Cell \u001b[1;32mIn[4], line 2\u001b[0m\n\u001b[0;32m      1\u001b[0m \u001b[38;5;28;01mimport\u001b[39;00m \u001b[38;5;21;01mzipfile\u001b[39;00m\n\u001b[1;32m----> 2\u001b[0m zip_ref \u001b[38;5;241m=\u001b[39m zipfile\u001b[38;5;241m.\u001b[39mZipFile(\u001b[38;5;124m'\u001b[39m\u001b[38;5;124m/content/dogs-vs-cats.zip\u001b[39m\u001b[38;5;124m'\u001b[39m, \u001b[38;5;124m'\u001b[39m\u001b[38;5;124mr\u001b[39m\u001b[38;5;124m'\u001b[39m)\n\u001b[0;32m      3\u001b[0m zip_ref\u001b[38;5;241m.\u001b[39mextractall(\u001b[38;5;124m'\u001b[39m\u001b[38;5;124m/content\u001b[39m\u001b[38;5;124m'\u001b[39m)\n\u001b[0;32m      4\u001b[0m zip_ref\u001b[38;5;241m.\u001b[39mclose()\n",
      "File \u001b[1;32m~\\anaconda3\\Lib\\zipfile.py:1284\u001b[0m, in \u001b[0;36mZipFile.__init__\u001b[1;34m(self, file, mode, compression, allowZip64, compresslevel, strict_timestamps, metadata_encoding)\u001b[0m\n\u001b[0;32m   1282\u001b[0m \u001b[38;5;28;01mwhile\u001b[39;00m \u001b[38;5;28;01mTrue\u001b[39;00m:\n\u001b[0;32m   1283\u001b[0m     \u001b[38;5;28;01mtry\u001b[39;00m:\n\u001b[1;32m-> 1284\u001b[0m         \u001b[38;5;28mself\u001b[39m\u001b[38;5;241m.\u001b[39mfp \u001b[38;5;241m=\u001b[39m io\u001b[38;5;241m.\u001b[39mopen(file, filemode)\n\u001b[0;32m   1285\u001b[0m     \u001b[38;5;28;01mexcept\u001b[39;00m \u001b[38;5;167;01mOSError\u001b[39;00m:\n\u001b[0;32m   1286\u001b[0m         \u001b[38;5;28;01mif\u001b[39;00m filemode \u001b[38;5;129;01min\u001b[39;00m modeDict:\n",
      "\u001b[1;31mFileNotFoundError\u001b[0m: [Errno 2] No such file or directory: '/content/dogs-vs-cats.zip'"
     ]
    }
   ],
   "source": [
    "import zipfile\n",
    "zip_ref = zipfile.ZipFile('/content/dogs-vs-cats.zip', 'r')\n",
    "zip_ref.extractall('/content')\n",
    "zip_ref.close()"
   ]
  },
  {
   "cell_type": "code",
   "execution_count": null,
   "metadata": {
    "executionInfo": {
     "elapsed": 4253,
     "status": "ok",
     "timestamp": 1706413269717,
     "user": {
      "displayName": "Jaya Kiran",
      "userId": "11859411120417726654"
     },
     "user_tz": -330
    },
    "id": "9I3lxj5LY1CS"
   },
   "outputs": [],
   "source": [
    "import tensorflow as tf\n",
    "from tensorflow import keras\n",
    "from keras import Sequential\n",
    "from keras.layers import Dense,Conv2D,MaxPooling2D,Flatten,BatchNormalization,Dropout"
   ]
  },
  {
   "cell_type": "code",
   "execution_count": null,
   "metadata": {
    "colab": {
     "base_uri": "https://localhost:8080/"
    },
    "executionInfo": {
     "elapsed": 4943,
     "status": "ok",
     "timestamp": 1706413282419,
     "user": {
      "displayName": "Jaya Kiran",
      "userId": "11859411120417726654"
     },
     "user_tz": -330
    },
    "id": "qMeGgQXnY56l",
    "outputId": "c6f3e383-3e36-431e-9af5-76a2233622a3"
   },
   "outputs": [],
   "source": [
    "# generators\n",
    "train_ds = keras.utils.image_dataset_from_directory(\n",
    "    directory = '/content/train',\n",
    "    labels='inferred',\n",
    "    label_mode = 'int',\n",
    "    batch_size=32,\n",
    "    image_size=(256,256)\n",
    ")\n",
    "\n",
    "validation_ds = keras.utils.image_dataset_from_directory(\n",
    "    directory = '/content/test',\n",
    "    labels='inferred',\n",
    "    label_mode = 'int',\n",
    "    batch_size=32,\n",
    "    image_size=(256,256)\n",
    ")"
   ]
  },
  {
   "cell_type": "code",
   "execution_count": null,
   "metadata": {
    "executionInfo": {
     "elapsed": 12,
     "status": "ok",
     "timestamp": 1706413282420,
     "user": {
      "displayName": "Jaya Kiran",
      "userId": "11859411120417726654"
     },
     "user_tz": -330
    },
    "id": "dDe4bm3TZAme"
   },
   "outputs": [],
   "source": [
    "# Normalize\n",
    "def process(image,label):\n",
    "    image = tf.cast(image/255. ,tf.float32)\n",
    "    return image,label\n",
    "\n",
    "train_ds = train_ds.map(process)\n",
    "validation_ds = validation_ds.map(process)"
   ]
  },
  {
   "cell_type": "code",
   "execution_count": null,
   "metadata": {
    "executionInfo": {
     "elapsed": 357,
     "status": "ok",
     "timestamp": 1706413286688,
     "user": {
      "displayName": "Jaya Kiran",
      "userId": "11859411120417726654"
     },
     "user_tz": -330
    },
    "id": "Nhu_H5_2ZB9K"
   },
   "outputs": [],
   "source": [
    "# create CNN model\n",
    "\n",
    "model = Sequential()\n",
    "\n",
    "model.add(Conv2D(32,kernel_size=(3,3),padding='valid',activation='relu',input_shape=(256,256,3)))\n",
    "model.add(BatchNormalization())\n",
    "model.add(MaxPooling2D(pool_size=(2,2),strides=2,padding='valid'))\n",
    "\n",
    "model.add(Conv2D(64,kernel_size=(3,3),padding='valid',activation='relu'))\n",
    "model.add(BatchNormalization())\n",
    "model.add(MaxPooling2D(pool_size=(2,2),strides=2,padding='valid'))\n",
    "\n",
    "model.add(Conv2D(128,kernel_size=(3,3),padding='valid',activation='relu'))\n",
    "model.add(BatchNormalization())\n",
    "model.add(MaxPooling2D(pool_size=(2,2),strides=2,padding='valid'))\n",
    "\n",
    "model.add(Flatten())\n",
    "\n",
    "model.add(Dense(128,activation='relu'))\n",
    "model.add(Dropout(0.1))\n",
    "model.add(Dense(64,activation='relu'))\n",
    "model.add(Dropout(0.1))\n",
    "model.add(Dense(1,activation='sigmoid'))"
   ]
  },
  {
   "cell_type": "code",
   "execution_count": null,
   "metadata": {
    "colab": {
     "base_uri": "https://localhost:8080/"
    },
    "executionInfo": {
     "elapsed": 441,
     "status": "ok",
     "timestamp": 1706413291391,
     "user": {
      "displayName": "Jaya Kiran",
      "userId": "11859411120417726654"
     },
     "user_tz": -330
    },
    "id": "CMZUB6F2ZKvc",
    "outputId": "af96eb52-02d2-4a71-e5f3-7f9552aa4c82"
   },
   "outputs": [],
   "source": [
    "model.summary()"
   ]
  },
  {
   "cell_type": "code",
   "execution_count": null,
   "metadata": {
    "executionInfo": {
     "elapsed": 623,
     "status": "ok",
     "timestamp": 1706413298033,
     "user": {
      "displayName": "Jaya Kiran",
      "userId": "11859411120417726654"
     },
     "user_tz": -330
    },
    "id": "wkRXC8C6ZPRc"
   },
   "outputs": [],
   "source": [
    "model.compile(optimizer='adam',loss='binary_crossentropy',metrics=['accuracy'])"
   ]
  },
  {
   "cell_type": "markdown",
   "metadata": {
    "id": "qyIj6i4Yzzhq"
   },
   "source": [
    "history = model.fit(train_ds,epochs=10,validation_data=validation_ds)"
   ]
  },
  {
   "cell_type": "code",
   "execution_count": null,
   "metadata": {
    "colab": {
     "base_uri": "https://localhost:8080/",
     "height": 430
    },
    "executionInfo": {
     "elapsed": 43,
     "status": "ok",
     "timestamp": 1706414086623,
     "user": {
      "displayName": "Jaya Kiran",
      "userId": "11859411120417726654"
     },
     "user_tz": -330
    },
    "id": "zfF8pEPzMyZ2",
    "outputId": "8f300650-f421-4001-bf63-0d8281d8d4c2"
   },
   "outputs": [],
   "source": [
    "import matplotlib.pyplot as plt\n",
    "\n",
    "plt.plot(history.history['accuracy'],color='red',label='train')\n",
    "plt.plot(history.history['val_accuracy'],color='blue',label='validation')\n",
    "plt.legend()\n",
    "plt.show()"
   ]
  },
  {
   "cell_type": "code",
   "execution_count": null,
   "metadata": {
    "colab": {
     "base_uri": "https://localhost:8080/",
     "height": 430
    },
    "executionInfo": {
     "elapsed": 20,
     "status": "ok",
     "timestamp": 1706414126898,
     "user": {
      "displayName": "Jaya Kiran",
      "userId": "11859411120417726654"
     },
     "user_tz": -330
    },
    "id": "fn6emSdXNQPx",
    "outputId": "c35be96a-1401-4bdf-bbb0-a936c0470807"
   },
   "outputs": [],
   "source": [
    "plt.plot(history.history['accuracy'],color='red',label='train')\n",
    "plt.plot(history.history['val_accuracy'],color='blue',label='validation')\n",
    "plt.legend()\n",
    "plt.show()"
   ]
  },
  {
   "cell_type": "code",
   "execution_count": null,
   "metadata": {
    "colab": {
     "base_uri": "https://localhost:8080/",
     "height": 430
    },
    "executionInfo": {
     "elapsed": 523,
     "status": "ok",
     "timestamp": 1706414144046,
     "user": {
      "displayName": "Jaya Kiran",
      "userId": "11859411120417726654"
     },
     "user_tz": -330
    },
    "id": "diDpQ1SfNTiR",
    "outputId": "a2ceb8e0-71ca-4c88-9fe9-9e0540fcc7f6"
   },
   "outputs": [],
   "source": [
    "plt.plot(history.history['loss'],color='red',label='train')\n",
    "plt.plot(history.history['val_loss'],color='blue',label='validation')\n",
    "plt.legend()\n",
    "plt.show()"
   ]
  },
  {
   "cell_type": "code",
   "execution_count": null,
   "metadata": {
    "colab": {
     "base_uri": "https://localhost:8080/",
     "height": 430
    },
    "executionInfo": {
     "elapsed": 28,
     "status": "ok",
     "timestamp": 1706414169477,
     "user": {
      "displayName": "Jaya Kiran",
      "userId": "11859411120417726654"
     },
     "user_tz": -330
    },
    "id": "VbEcC05vNbQ5",
    "outputId": "e6b78110-60a3-45aa-a977-37e82c4ff8ef"
   },
   "outputs": [],
   "source": [
    "plt.plot(history.history['loss'],color='red',label='train')\n",
    "plt.plot(history.history['val_loss'],color='blue',label='validation')\n",
    "plt.legend()\n",
    "plt.show()"
   ]
  },
  {
   "cell_type": "code",
   "execution_count": null,
   "metadata": {
    "executionInfo": {
     "elapsed": 392,
     "status": "ok",
     "timestamp": 1706414188184,
     "user": {
      "displayName": "Jaya Kiran",
      "userId": "11859411120417726654"
     },
     "user_tz": -330
    },
    "id": "k6xNp328NhCp"
   },
   "outputs": [],
   "source": [
    "# ways to reduce overfitting\n",
    "\n",
    "# Add more data\n",
    "# Data Augmentation -> next video\n",
    "# L1/L2 Regularizer\n",
    "# Dropout\n",
    "# Batch Norm\n",
    "# Reduce complexity"
   ]
  },
  {
   "cell_type": "code",
   "execution_count": null,
   "metadata": {
    "executionInfo": {
     "elapsed": 731,
     "status": "ok",
     "timestamp": 1706414205384,
     "user": {
      "displayName": "Jaya Kiran",
      "userId": "11859411120417726654"
     },
     "user_tz": -330
    },
    "id": "mEZ0-3JcNjHA"
   },
   "outputs": [],
   "source": [
    "import cv2"
   ]
  },
  {
   "cell_type": "code",
   "execution_count": null,
   "metadata": {
    "executionInfo": {
     "elapsed": 4,
     "status": "ok",
     "timestamp": 1706414218912,
     "user": {
      "displayName": "Jaya Kiran",
      "userId": "11859411120417726654"
     },
     "user_tz": -330
    },
    "id": "_Y_qkHloNmld"
   },
   "outputs": [],
   "source": [
    "test_img = cv2.imread('/content/test/cats/cat.83.jpg')"
   ]
  },
  {
   "cell_type": "code",
   "execution_count": null,
   "metadata": {
    "colab": {
     "base_uri": "https://localhost:8080/",
     "height": 452
    },
    "executionInfo": {
     "elapsed": 2245,
     "status": "ok",
     "timestamp": 1706414237922,
     "user": {
      "displayName": "Jaya Kiran",
      "userId": "11859411120417726654"
     },
     "user_tz": -330
    },
    "id": "924eUhT-NrTB",
    "outputId": "f8fc111e-695b-4312-bcb1-846e462ea264"
   },
   "outputs": [],
   "source": [
    "plt.imshow(test_img)"
   ]
  },
  {
   "cell_type": "code",
   "execution_count": null,
   "metadata": {
    "colab": {
     "base_uri": "https://localhost:8080/"
    },
    "executionInfo": {
     "elapsed": 9,
     "status": "ok",
     "timestamp": 1706414260375,
     "user": {
      "displayName": "Jaya Kiran",
      "userId": "11859411120417726654"
     },
     "user_tz": -330
    },
    "id": "89pXwWXXNzC7",
    "outputId": "f75d5d1f-2763-4773-d5ca-1dec1b8f513c"
   },
   "outputs": [],
   "source": [
    "test_img.shape"
   ]
  },
  {
   "cell_type": "code",
   "execution_count": null,
   "metadata": {
    "executionInfo": {
     "elapsed": 720,
     "status": "ok",
     "timestamp": 1706414278692,
     "user": {
      "displayName": "Jaya Kiran",
      "userId": "11859411120417726654"
     },
     "user_tz": -330
    },
    "id": "rM8v3O5jN3VB"
   },
   "outputs": [],
   "source": [
    "test_img = cv2.resize(test_img,(256,256))"
   ]
  },
  {
   "cell_type": "code",
   "execution_count": null,
   "metadata": {
    "executionInfo": {
     "elapsed": 423,
     "status": "ok",
     "timestamp": 1706414300399,
     "user": {
      "displayName": "Jaya Kiran",
      "userId": "11859411120417726654"
     },
     "user_tz": -330
    },
    "id": "JHDeoKwoN4mQ"
   },
   "outputs": [],
   "source": [
    "test_input = test_img.reshape((1,256,256,3))"
   ]
  },
  {
   "cell_type": "code",
   "execution_count": null,
   "metadata": {
    "colab": {
     "base_uri": "https://localhost:8080/"
    },
    "executionInfo": {
     "elapsed": 506,
     "status": "ok",
     "timestamp": 1706414312700,
     "user": {
      "displayName": "Jaya Kiran",
      "userId": "11859411120417726654"
     },
     "user_tz": -330
    },
    "id": "zMNqCuafN-Dk",
    "outputId": "ac09e347-061e-46c0-cd60-3725cae373ba"
   },
   "outputs": [],
   "source": [
    "model.predict(test_input)"
   ]
  },
  {
   "cell_type": "code",
   "execution_count": null,
   "metadata": {
    "executionInfo": {
     "elapsed": 6,
     "status": "ok",
     "timestamp": 1706414334601,
     "user": {
      "displayName": "Jaya Kiran",
      "userId": "11859411120417726654"
     },
     "user_tz": -330
    },
    "id": "oB89wfMXOC1y"
   },
   "outputs": [],
   "source": [
    "test_img = cv2.imread('/content/test/dogs/dog.199.jpg')"
   ]
  },
  {
   "cell_type": "code",
   "execution_count": null,
   "metadata": {
    "colab": {
     "base_uri": "https://localhost:8080/",
     "height": 402
    },
    "executionInfo": {
     "elapsed": 1996,
     "status": "ok",
     "timestamp": 1706414351472,
     "user": {
      "displayName": "Jaya Kiran",
      "userId": "11859411120417726654"
     },
     "user_tz": -330
    },
    "id": "Mrvq4ukwOIq8",
    "outputId": "572dfd3c-9de0-4ac6-9756-edc183b0f17b"
   },
   "outputs": [],
   "source": [
    "plt.imshow(test_img)"
   ]
  },
  {
   "cell_type": "code",
   "execution_count": null,
   "metadata": {
    "colab": {
     "base_uri": "https://localhost:8080/"
    },
    "executionInfo": {
     "elapsed": 500,
     "status": "ok",
     "timestamp": 1706414368698,
     "user": {
      "displayName": "Jaya Kiran",
      "userId": "11859411120417726654"
     },
     "user_tz": -330
    },
    "id": "pL_DobeKOL0k",
    "outputId": "84417a12-51a5-4b4a-e857-7bf81fabd58d"
   },
   "outputs": [],
   "source": [
    "test_img.shape"
   ]
  },
  {
   "cell_type": "code",
   "execution_count": null,
   "metadata": {
    "executionInfo": {
     "elapsed": 673,
     "status": "ok",
     "timestamp": 1706414383864,
     "user": {
      "displayName": "Jaya Kiran",
      "userId": "11859411120417726654"
     },
     "user_tz": -330
    },
    "id": "jVr7kN73OPLj"
   },
   "outputs": [],
   "source": [
    "test_img = cv2.resize(test_img,(256,256))"
   ]
  },
  {
   "cell_type": "code",
   "execution_count": null,
   "metadata": {
    "executionInfo": {
     "elapsed": 7,
     "status": "ok",
     "timestamp": 1706414397375,
     "user": {
      "displayName": "Jaya Kiran",
      "userId": "11859411120417726654"
     },
     "user_tz": -330
    },
    "id": "nxPDyi7eOUU1"
   },
   "outputs": [],
   "source": [
    "test_input = test_img.reshape((1,256,256,3))"
   ]
  },
  {
   "cell_type": "code",
   "execution_count": null,
   "metadata": {
    "colab": {
     "base_uri": "https://localhost:8080/"
    },
    "executionInfo": {
     "elapsed": 426,
     "status": "ok",
     "timestamp": 1706414416321,
     "user": {
      "displayName": "Jaya Kiran",
      "userId": "11859411120417726654"
     },
     "user_tz": -330
    },
    "id": "mk4IHBL_OWT5",
    "outputId": "4271e76b-17cb-4676-a9f1-cee1e22438aa"
   },
   "outputs": [],
   "source": [
    "model.predict(test_input)"
   ]
  }
 ],
 "metadata": {
  "accelerator": "GPU",
  "colab": {
   "authorship_tag": "ABX9TyNaBA/K8XkTXzxcyS9qT38V",
   "gpuType": "T4",
   "provenance": []
  },
  "kernelspec": {
   "display_name": "Python 3 (ipykernel)",
   "language": "python",
   "name": "python3"
  },
  "language_info": {
   "codemirror_mode": {
    "name": "ipython",
    "version": 3
   },
   "file_extension": ".py",
   "mimetype": "text/x-python",
   "name": "python",
   "nbconvert_exporter": "python",
   "pygments_lexer": "ipython3",
   "version": "3.11.5"
  }
 },
 "nbformat": 4,
 "nbformat_minor": 1
}
